{
 "cells": [
  {
   "cell_type": "code",
   "execution_count": 20,
   "metadata": {},
   "outputs": [
    {
     "name": "stdout",
     "output_type": "stream",
     "text": [
      "deque(['b', 'a', 'c'])\n"
     ]
    },
    {
     "data": {
      "text/plain": [
       "deque(['x', 'b', 'a', 'c'])"
      ]
     },
     "execution_count": 20,
     "metadata": {},
     "output_type": "execute_result"
    }
   ],
   "source": [
    "import collections\n",
    "lst=collections.deque()\n",
    "lst.append('b')    #Inserting elements in the front & back takes O(1) time\n",
    "lst.append('a')\n",
    "lst.append('c')\n",
    "print(lst)\n",
    "lst.appendleft('x')\n",
    "lst"
   ]
  },
  {
   "cell_type": "code",
   "execution_count": 21,
   "metadata": {},
   "outputs": [
    {
     "data": {
      "text/plain": [
       "deque(['x', 'b', 'y', 'a', 'c'])"
      ]
     },
     "execution_count": 21,
     "metadata": {},
     "output_type": "execute_result"
    }
   ],
   "source": [
    "#however inserting elements at arbitrary indexes takes O(n) time\n",
    "lst.insert(2,'y')\n",
    "lst"
   ]
  },
  {
   "cell_type": "code",
   "execution_count": 22,
   "metadata": {},
   "outputs": [
    {
     "name": "stdout",
     "output_type": "stream",
     "text": [
      "deque(['x', 'b', 'y', 'a', 'c'])\n",
      "deque(['x', 'b', 'y', 'a'])\n",
      "deque(['b', 'y', 'a'])\n"
     ]
    }
   ],
   "source": [
    "#Removing elements at the front & back takes O(1) time\n",
    "print(lst)\n",
    "lst.pop()\n",
    "print(lst)\n",
    "lst.popleft()\n",
    "print(lst)"
   ]
  },
  {
   "cell_type": "code",
   "execution_count": 23,
   "metadata": {},
   "outputs": [
    {
     "name": "stdout",
     "output_type": "stream",
     "text": [
      "deque(['b', 'y'])\n",
      "deque(['y'])\n"
     ]
    }
   ],
   "source": [
    "#removing elements at arbitrary locations takes O(n) time\n",
    "del lst[2]\n",
    "print(lst)\n",
    "lst.remove('b')\n",
    "print(lst)"
   ]
  },
  {
   "cell_type": "code",
   "execution_count": 25,
   "metadata": {},
   "outputs": [
    {
     "name": "stdout",
     "output_type": "stream",
     "text": [
      "deque(['y', 'a', 'b', 'c'])\n"
     ]
    }
   ],
   "source": [
    "#adding elements\n",
    "lst.append('a')\n",
    "lst.append('b')\n",
    "lst.append('c')\n",
    "print(lst)"
   ]
  },
  {
   "cell_type": "code",
   "execution_count": 27,
   "metadata": {},
   "outputs": [
    {
     "name": "stdout",
     "output_type": "stream",
     "text": [
      "deque(['y', 'a', 'b', 'c'])\n"
     ]
    },
    {
     "data": {
      "text/plain": [
       "2"
      ]
     },
     "execution_count": 27,
     "metadata": {},
     "output_type": "execute_result"
    }
   ],
   "source": [
    "#De-queue can be reversed in place\n",
    "lst.reverse()\n",
    "print(lst)\n",
    "#Searching for an element takes O(n) time\n",
    "lst.index('b')"
   ]
  }
 ],
 "metadata": {
  "kernelspec": {
   "display_name": "Python 3",
   "language": "python",
   "name": "python3"
  },
  "language_info": {
   "codemirror_mode": {
    "name": "ipython",
    "version": 3
   },
   "file_extension": ".py",
   "mimetype": "text/x-python",
   "name": "python",
   "nbconvert_exporter": "python",
   "pygments_lexer": "ipython3",
   "version": "3.7.3"
  }
 },
 "nbformat": 4,
 "nbformat_minor": 2
}
