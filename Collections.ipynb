{
 "cells": [
  {
   "cell_type": "code",
   "execution_count": 17,
   "metadata": {},
   "outputs": [
    {
     "name": "stdout",
     "output_type": "stream",
     "text": [
      "2\n",
      "Counter({23: 4, 1: 2, 67: 2, 44: 1, 34: 1, 45: 1})\n",
      "4\n"
     ]
    }
   ],
   "source": [
    "#six most commonly used data structure from python collection module\n",
    "#1.Counter 2.defaultdict 3.OrderedDict 4.deque 5.ChainMap 6.namedtuple()\n",
    "from collections import Counter\n",
    "list=[1,23,44,23,67,1,34,67,23,45,23]\n",
    "cnt=Counter(list)\n",
    "print(cnt[1])\n",
    "print(cnt)\n",
    "print(cnt[23])"
   ]
  },
  {
   "cell_type": "code",
   "execution_count": 9,
   "metadata": {},
   "outputs": [
    {
     "name": "stdout",
     "output_type": "stream",
     "text": [
      "0\n",
      "2\n",
      "-----------------\n",
      "one 1\n",
      "two 2\n",
      "three 3\n",
      "four 4\n",
      "five 0\n"
     ]
    }
   ],
   "source": [
    "from collections import defaultdict\n",
    "nums=defaultdict(int)\n",
    "nums['one']=1\n",
    "nums['two']=2\n",
    "nums['three']=3\n",
    "nums['four']=4\n",
    "print(nums['five'])\n",
    "print(nums['two'])\n",
    "print('-----------------')\n",
    "for key,value in nums.items():\n",
    "    print(key,value)"
   ]
  },
  {
   "cell_type": "code",
   "execution_count": 4,
   "metadata": {},
   "outputs": [
    {
     "name": "stdout",
     "output_type": "stream",
     "text": [
      "defaultdict(<class 'int'>, {'ram': 1, 'vikram': 2, 'vikrant': 3, 'vishal': 2, 'gaurav': 1, 'priya': 1, 'akash': 1, 'anand': 1, 'anurag': 1})\n",
      "NAMES-- ['ram', 'vikram', 'vikrant', 'vishal', 'gaurav', 'priya', 'akash', 'anand', 'anurag', 'vikram', 'vikrant', 'vishal', 'vikrant']\n"
     ]
    }
   ],
   "source": [
    "from collections import defaultdict\n",
    "cnt=defaultdict(int)\n",
    "names=\"ram vikram vikrant vishal gaurav priya akash anand anurag vikram vikrant vishal vikrant\".split()\n",
    "for n in names:\n",
    "    cnt[n]+=1\n",
    "print(cnt)    \n",
    "print(\"NAMES--\",names)"
   ]
  },
  {
   "cell_type": "code",
   "execution_count": 10,
   "metadata": {},
   "outputs": [
    {
     "name": "stdout",
     "output_type": "stream",
     "text": [
      "OrderedDict([('a', 1), ('b', 2), ('c', 3)])\n",
      "1\n",
      "a 1\n",
      "b 2\n",
      "c 3\n"
     ]
    }
   ],
   "source": [
    "from collections import OrderedDict\n",
    "count=OrderedDict()\n",
    "count['a']=1\n",
    "count['b']=2\n",
    "count['c']=3\n",
    "print(count)\n",
    "print(count['a'])\n",
    "for key,value in count.items():\n",
    "    print(key,value)"
   ]
  },
  {
   "cell_type": "code",
   "execution_count": 17,
   "metadata": {},
   "outputs": [
    {
     "name": "stdout",
     "output_type": "stream",
     "text": [
      "c 3\n",
      "e 3\n",
      "a 2\n",
      "d 1\n"
     ]
    }
   ],
   "source": [
    "from collections import *\n",
    "lst=['a','a','c','d','e','c','e','c','e']\n",
    "cnt=Counter(lst)\n",
    "od=OrderedDict(cnt.most_common())\n",
    "for key,value in od.items():\n",
    "    print(key,value)"
   ]
  },
  {
   "cell_type": "code",
   "execution_count": 24,
   "metadata": {},
   "outputs": [
    {
     "name": "stdout",
     "output_type": "stream",
     "text": [
      "User(name='vikram vikrant', age=21, gender='Male')\n",
      "Name of the user:vikram vikrant\n",
      "Age of the user:21\n",
      "Gender of the user:Male\n",
      "_______________________________________\n",
      "User(name='vishal gaurav', age=25, gender='Male')\n",
      "Name of the user:vishal gaurav\n",
      "Age of the user:25\n",
      "Gender of the user:Male\n"
     ]
    }
   ],
   "source": [
    "from collections import namedtuple\n",
    "User=namedtuple('User','name age gender')\n",
    "Vikrant=User(name='vikram vikrant', age=21, gender='Male')\n",
    "vishal=User(name='vishal gaurav',age=25,gender='Male')\n",
    "print(Vikrant)\n",
    "print('Name of the user:{0}'.format(Vikrant.name))\n",
    "print('Age of the user:{0}'.format(Vikrant.age))\n",
    "print('Gender of the user:{0}'.format(Vikrant.gender))\n",
    "print('_______________________________________')\n",
    "print(vishal)\n",
    "print('Name of the user:{0}'.format(vishal.name))\n",
    "print('Age of the user:{0}'.format(vishal.age))\n",
    "print('Gender of the user:{0}'.format(vishal.gender))"
   ]
  }
 ],
 "metadata": {
  "kernelspec": {
   "display_name": "Python 3",
   "language": "python",
   "name": "python3"
  },
  "language_info": {
   "codemirror_mode": {
    "name": "ipython",
    "version": 3
   },
   "file_extension": ".py",
   "mimetype": "text/x-python",
   "name": "python",
   "nbconvert_exporter": "python",
   "pygments_lexer": "ipython3",
   "version": "3.7.3"
  }
 },
 "nbformat": 4,
 "nbformat_minor": 2
}
